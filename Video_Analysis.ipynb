{
 "cells": [
  {
   "cell_type": "markdown",
   "id": "b502be4e-e050-4e1b-8835-eb267282dc85",
   "metadata": {},
   "source": [
    "# Módulo de ingesta de video: fotogramas, tiempos y métricas básicas\n",
    "\n",
    "Este bloque de **utilidad** prepara cualquier video para análisis cuantitativo. Es la **primera etapa común** para los proyectos de:\n",
    "- **Caída libre** (estimación de \\(g\\) a partir de \\(y(t)=y_0+v_0 t+\\tfrac12 g t^2\\)),\n",
    "- **Pelota rebotando** (energía y coeficiente de restitución),\n",
    "- **Péndulo** (período \\(T\\), amortiguamiento),\n",
    "- **Viscosímetro de esfera** (velocidad terminal \\(v_t\\) y \\(\\mu\\)),\n",
    "- y en general, **cualquier experimento** que parta de un video y necesite un *pipeline* reproducible.\n",
    "\n",
    "## ¿Qué hace exactamente?\n",
    "\n",
    "1. **Abre** un archivo de video y verifica acceso.\n",
    "2. **Lee todos los fotogramas** y extrae el **timestamp real** de cada uno (en segundos) usando `CAP_PROP_POS_MSEC`  \n",
    "   → robusto incluso si el teléfono grabó con **FPS variable**.\n",
    "3. **Calcula métricas**:  \n",
    "   - **Duración total** (según lectura real),  \n",
    "   - **FPS promedio** (frames leídos / duración),  \n",
    "   - **# de fotogramas**,  \n",
    "   - y además lee los **metadatos** de contenedor (FPS y #frames reportados).\n",
    "4. **Exporta fotogramas** (opcional) a una carpeta (`frames/`) y  \n",
    "   **genera un CSV** `frames_index.csv` con el mapeo:"
   ]
  },
  {
   "cell_type": "code",
   "execution_count": 1,
   "id": "84e8a3ee-622b-4a94-abb0-8e5da82eed50",
   "metadata": {},
   "outputs": [],
   "source": [
    "# Requisitos: pip install opencv-python-headless numpy pandas\n",
    "\n",
    "from pathlib import Path\n",
    "import cv2, numpy as np, pandas as pd\n",
    "\n",
    "def video_report(video_path, out_dir=\"frames\", every=1, save_frames=True):\n",
    "    video_path = Path(video_path)\n",
    "    out_dir = Path(out_dir)\n",
    "    cap = cv2.VideoCapture(str(video_path))\n",
    "    if not cap.isOpened():\n",
    "        raise RuntimeError(f\"No se pudo abrir el video: {video_path}\")\n",
    "\n",
    "    # Metadatos del contenedor (pueden ser inexactos)\n",
    "    meta_fps = cap.get(cv2.CAP_PROP_FPS) or 0.0\n",
    "    meta_frames = int(cap.get(cv2.CAP_PROP_FRAME_COUNT) or 0)\n",
    "    meta_duration = (meta_frames / meta_fps) if (meta_fps > 0 and meta_frames > 0) else None\n",
    "\n",
    "    if save_frames:\n",
    "        out_dir.mkdir(parents=True, exist_ok=True)\n",
    "\n",
    "    timestamps = []\n",
    "    frames_read = 0\n",
    "    frames_saved = 0\n",
    "\n",
    "    while True:\n",
    "        ok, frame = cap.read()\n",
    "        if not ok:\n",
    "            break\n",
    "        # tiempo real del frame (soporta FPS variable)\n",
    "        t = cap.get(cv2.CAP_PROP_POS_MSEC) / 1000.0\n",
    "        timestamps.append(t)\n",
    "\n",
    "        if save_frames and (every == 1 or frames_read % every == 0):\n",
    "            cv2.imwrite(str(out_dir / f\"frame_{frames_read:06d}.jpg\"), frame)\n",
    "            frames_saved += 1\n",
    "\n",
    "        frames_read += 1\n",
    "\n",
    "    cap.release()\n",
    "\n",
    "    if timestamps:\n",
    "        duration_read = timestamps[-1]\n",
    "        fps_mean = frames_read / duration_read if duration_read > 0 else float(\"nan\")\n",
    "        df = pd.DataFrame({\"frame_idx\": np.arange(frames_read), \"t_seconds\": timestamps})\n",
    "        if save_frames:\n",
    "            df.to_csv(out_dir / \"frames_index.csv\", index=False)\n",
    "    else:\n",
    "        duration_read = 0.0\n",
    "        fps_mean = float(\"nan\")\n",
    "\n",
    "    # Reporte\n",
    "    print(\"\\n== INFORME DEL VIDEO ==\")\n",
    "    print(f\"Archivo:            {video_path}\")\n",
    "    print(f\"Frames leídos:      {frames_read}\")\n",
    "    print(f\"Duración leída:     {duration_read:.3f} s\")\n",
    "    print(f\"FPS promedio leído: {fps_mean:.3f}\" if np.isfinite(fps_mean) else \"FPS promedio leído: n/a\")\n",
    "    print(\"\\n-- Metadatos del contenedor --\")\n",
    "    print(f\"FPS (metadatos):    {meta_fps:.3f}\" if meta_fps > 0 else \"FPS (metadatos): n/d\")\n",
    "    print(f\"#Frames (metadatos): {meta_frames}\" if meta_frames > 0 else \"#Frames (metadatos): n/d\")\n",
    "    if meta_duration is not None:\n",
    "        print(f\"Duración (metadatos): {meta_duration:.3f} s\")\n",
    "    if save_frames:\n",
    "        print(f\"\\nFrames guardados:   {frames_saved}  en {out_dir.resolve()}\")\n",
    "\n",
    "    if meta_fps > 0 and np.isfinite(fps_mean) and abs(fps_mean - meta_fps) / meta_fps > 0.05:\n",
    "        print(\"\\nAviso: diferencia >5% entre FPS de metadatos y promedio leído (posible FPS variable).\")\n",
    "\n",
    "    return {\n",
    "        \"frames_read\": frames_read,\n",
    "        \"duration_read\": duration_read,\n",
    "        \"fps_mean\": fps_mean,\n",
    "        \"meta_fps\": meta_fps,\n",
    "        \"meta_frames\": meta_frames,\n",
    "        \"meta_duration\": meta_duration,\n",
    "        \"frames_saved\": frames_saved,\n",
    "        \"out_dir\": str(out_dir.resolve()),\n",
    "    }"
   ]
  },
  {
   "cell_type": "code",
   "execution_count": 2,
   "id": "ae68b458-1743-452f-b8fa-98133019e4bc",
   "metadata": {},
   "outputs": [
    {
     "name": "stdout",
     "output_type": "stream",
     "text": [
      "\n",
      "== INFORME DEL VIDEO ==\n",
      "Archivo:            Video2025-08-18.mp4\n",
      "Frames leídos:      80\n",
      "Duración leída:     2.633 s\n",
      "FPS promedio leído: 30.380\n",
      "\n",
      "-- Metadatos del contenedor --\n",
      "FPS (metadatos):    30.000\n",
      "#Frames (metadatos): 80\n",
      "Duración (metadatos): 2.667 s\n",
      "\n",
      "Frames guardados:   40  en /Users/neno/Documents/Cursos/SensadoModelado/frames\n"
     ]
    }
   ],
   "source": [
    "# Ejemplo de uso en notebook:\n",
    "res = video_report(\"Video2025-08-18.mp4\", out_dir=\"frames\", every=2, save_frames=True)"
   ]
  },
  {
   "cell_type": "code",
   "execution_count": 3,
   "id": "0d3c339b-b34b-4106-9a85-7444d75f434f",
   "metadata": {},
   "outputs": [
    {
     "name": "stdout",
     "output_type": "stream",
     "text": [
      "Cada frame dura: 0.0329125 segundos\n"
     ]
    }
   ],
   "source": [
    "print(\"Cada frame dura:\", 2.633/80, \"segundos\")"
   ]
  },
  {
   "cell_type": "code",
   "execution_count": null,
   "id": "198c0c3c-9b2b-4221-a9b8-a51ecc947bed",
   "metadata": {},
   "outputs": [],
   "source": []
  }
 ],
 "metadata": {
  "kernelspec": {
   "display_name": "Python 3 (ipykernel)",
   "language": "python",
   "name": "python3"
  },
  "language_info": {
   "codemirror_mode": {
    "name": "ipython",
    "version": 3
   },
   "file_extension": ".py",
   "mimetype": "text/x-python",
   "name": "python",
   "nbconvert_exporter": "python",
   "pygments_lexer": "ipython3",
   "version": "3.13.3"
  }
 },
 "nbformat": 4,
 "nbformat_minor": 5
}
