{
 "cells": [
  {
   "cell_type": "code",
   "execution_count": 12,
   "id": "fc2504ea-861d-4025-8719-17e06b1152b7",
   "metadata": {},
   "outputs": [],
   "source": [
    "\"\"\"\n",
    "Detectar la posición (centroide) de una esfera oscura sobre un fondo blanco\n",
    "en una imagen estática.\n",
    "\n",
    "Requisitos:\n",
    "    pip install opencv-python-headless numpy\n",
    "\n",
    "Uso:\n",
    "    python detectar_bola.py ruta/a/imagen.jpg\n",
    "\"\"\"\n",
    "\n",
    "import cv2\n",
    "import numpy as np\n",
    "import sys\n",
    "import matplotlib.pyplot as plt\n",
    "from pathlib import Path"
   ]
  },
  {
   "cell_type": "code",
   "execution_count": 13,
   "id": "c0261a32-8668-4677-9d16-e3653794ed24",
   "metadata": {},
   "outputs": [],
   "source": [
    "path_img=\"Screenshot.png\""
   ]
  },
  {
   "cell_type": "code",
   "execution_count": 14,
   "id": "df3a1295-06dc-4ef9-9991-0b09861d6a63",
   "metadata": {},
   "outputs": [],
   "source": [
    "# 1. Cargar imagen y asegurar lectura correcta\n",
    "# Read image\n",
    "img = cv2.imread(path_img)\n",
    "orig_h, orig_w = img.shape[:2]\n",
    "if img is None:\n",
    "    raise FileNotFoundError(f\"No se pudo abrir la imagen: {path_img}\")"
   ]
  },
  {
   "cell_type": "code",
   "execution_count": 60,
   "id": "cacbe01c-8aac-4017-b0e6-51d2ad78b707",
   "metadata": {},
   "outputs": [
    {
     "name": "stdout",
     "output_type": "stream",
     "text": [
      "Las dimensiones de la imagen.... (ORIGINAL en las tres bandas de color Red-Green-Blue)\n"
     ]
    },
    {
     "data": {
      "text/plain": [
       "(1168, 966, 3)"
      ]
     },
     "execution_count": 60,
     "metadata": {},
     "output_type": "execute_result"
    }
   ],
   "source": [
    "print(\"Las dimensiones de la imagen.... (ORIGINAL en las tres bandas de color Red-Green-Blue)\")\n",
    "np.shape(img)"
   ]
  },
  {
   "cell_type": "code",
   "execution_count": 16,
   "id": "ba361ca2-87cc-4899-8287-87b14d92a314",
   "metadata": {},
   "outputs": [
    {
     "data": {
      "text/plain": [
       "<matplotlib.image.AxesImage at 0x11caec550>"
      ]
     },
     "execution_count": 16,
     "metadata": {},
     "output_type": "execute_result"
    },
    {
     "data": {
      "image/png": "[encoded data removed]",
      "text/plain": [
       "<Figure size 640x480 with 1 Axes>"
      ]
     },
     "metadata": {},
     "output_type": "display_data"
    }
   ],
   "source": [
    "plt.imshow(img,cmap=\"gray\")"
   ]
  },
  {
   "cell_type": "code",
   "execution_count": 17,
   "id": "396a3f44-9b1f-4b2c-b812-bbb4d8b12d6e",
   "metadata": {},
   "outputs": [],
   "source": [
    "# 2. Convertir a escala de grises\n",
    "gray = cv2.cvtColor(img, cv2.COLOR_BGR2GRAY)"
   ]
  },
  {
   "cell_type": "code",
   "execution_count": 18,
   "id": "f415137e-226f-46af-8a18-afac5ea42443",
   "metadata": {},
   "outputs": [
    {
     "data": {
      "text/plain": [
       "<matplotlib.image.AxesImage at 0x11cb3dbd0>"
      ]
     },
     "execution_count": 18,
     "metadata": {},
     "output_type": "execute_result"
    },
    {
     "data": {
      "image/png": "[encoded data removed]",
      "text/plain": [
       "<Figure size 640x480 with 1 Axes>"
      ]
     },
     "metadata": {},
     "output_type": "display_data"
    }
   ],
   "source": [
    "plt.imshow(gray,cmap=\"gray\")"
   ]
  },
  {
   "cell_type": "code",
   "execution_count": 59,
   "id": "c8913cc5-dda0-414e-a302-969f4b919972",
   "metadata": {},
   "outputs": [
    {
     "name": "stdout",
     "output_type": "stream",
     "text": [
      "Las dimensiones de la imagen.... (GRAY)\n"
     ]
    },
    {
     "data": {
      "text/plain": [
       "(1168, 966)"
      ]
     },
     "execution_count": 59,
     "metadata": {},
     "output_type": "execute_result"
    }
   ],
   "source": [
    "print(\"Las dimensiones de la imagen.... (GRAY)\")\n",
    "np.shape(gray)"
   ]
  },
  {
   "cell_type": "code",
   "execution_count": 20,
   "id": "e6bfe179-f4e7-4dba-8dd2-84fe441e5981",
   "metadata": {},
   "outputs": [
    {
     "data": {
      "text/plain": [
       "array([[255, 255, 255, ..., 255, 255, 255],\n",
       "       [255, 255, 255, ..., 255, 255, 255],\n",
       "       [255, 255, 255, ..., 255, 255, 255],\n",
       "       ...,\n",
       "       [255, 255, 255, ..., 255, 255, 255],\n",
       "       [255, 255, 255, ..., 255, 255, 255],\n",
       "       [255, 255, 255, ..., 255, 255, 255]],\n",
       "      shape=(1168, 966), dtype=uint8)"
      ]
     },
     "execution_count": 20,
     "metadata": {},
     "output_type": "execute_result"
    }
   ],
   "source": [
    "gray"
   ]
  },
  {
   "cell_type": "code",
   "execution_count": 23,
   "id": "fa6a272d-3c90-4e6f-8b6f-893a39faa433",
   "metadata": {},
   "outputs": [
    {
     "data": {
      "text/plain": [
       "(np.uint8(255), np.uint8(255), np.uint8(255), np.uint8(0))"
      ]
     },
     "execution_count": 23,
     "metadata": {},
     "output_type": "execute_result"
    }
   ],
   "source": [
    "gray[0].max(), gray[0].min(), gray[500].max(), gray[500].min()"
   ]
  },
  {
   "cell_type": "code",
   "execution_count": 24,
   "id": "6a6a5584-955b-4f90-86c7-09d7f2af8e9f",
   "metadata": {},
   "outputs": [
    {
     "data": {
      "text/plain": [
       "array([255, 255, 255, 255, 255, 255, 255, 255, 255, 255, 255, 255, 255,\n",
       "       255, 255, 255, 255, 255, 255, 255, 255, 255, 255, 255, 255, 255,\n",
       "       255, 255, 255, 255, 255, 255, 255, 255, 255, 255, 255, 255, 255,\n",
       "       255, 255, 255, 255, 255, 255, 255, 255, 255, 255, 255, 255, 255,\n",
       "       255, 255, 255, 255, 255, 255, 255, 255, 255, 255, 255, 255, 255,\n",
       "       255, 255, 255, 255, 255, 255, 255, 255, 255, 255, 255, 255, 255,\n",
       "       255, 255, 255, 255, 255, 255, 255, 255, 255, 255, 255, 255, 255,\n",
       "       255, 255, 255, 255, 255, 255, 255, 255, 255, 255, 255, 255, 255,\n",
       "       255, 255, 255, 255, 255, 255, 255, 255, 255, 255, 255, 255, 255,\n",
       "       255, 255, 255, 255, 255, 255, 255, 255, 255, 255, 255, 255, 255,\n",
       "       255, 255, 255, 255, 255, 255, 255, 255, 255, 255, 255, 255, 255,\n",
       "       255, 255, 255, 255, 255, 255, 255, 255, 255, 255, 255, 255, 255,\n",
       "       255, 255, 255, 255, 255, 255, 255, 255, 255, 255, 255, 255, 255,\n",
       "       255, 255, 255, 255, 255, 255, 255, 255, 255, 255, 255, 255, 255,\n",
       "       255, 255, 255, 255, 255, 255, 255, 255, 255, 255, 255, 255, 255,\n",
       "       255, 255, 255, 255, 255, 255, 255, 255, 255, 255, 255, 255, 255,\n",
       "       255, 255, 255, 255, 255, 255, 255, 255, 255, 255, 255, 255, 255,\n",
       "       255, 255, 255, 255, 255, 255, 255, 255, 255, 255, 255, 255, 255,\n",
       "       255, 255, 255, 255, 255, 255, 255, 255, 255, 255, 255, 255, 255,\n",
       "       255, 255, 255, 255, 255, 255, 255, 255, 255, 255, 255, 255, 255,\n",
       "       255, 255, 255, 255, 255, 255, 255, 255, 255, 255, 255, 255, 255,\n",
       "       255, 255, 255, 255, 255, 255, 255, 255, 255, 255, 255, 255, 255,\n",
       "       255, 255, 255, 255, 255, 255, 255, 255, 255, 255, 255, 255, 255,\n",
       "       255, 255, 255, 255, 255, 255, 255, 255, 255, 255, 255, 255, 255,\n",
       "       255, 255, 255, 255, 255, 255, 255, 255, 255, 255, 255, 255, 255,\n",
       "       255, 255, 255, 255, 255, 255, 255, 255, 255, 255, 255, 255, 255,\n",
       "       255, 255, 255, 255, 255, 255, 255, 255, 255, 255, 255, 255, 255,\n",
       "       255, 255, 255, 255, 255, 255, 255, 255, 255, 255, 255, 255, 255,\n",
       "       255, 255, 255, 255, 255, 255, 255, 255, 255, 255, 255, 255, 255,\n",
       "       255, 255, 255, 255, 255, 255, 255, 255, 255, 255, 255, 255, 255,\n",
       "       255, 255, 255, 255, 255, 255, 255, 255, 255, 255, 255, 255, 255,\n",
       "       255, 255, 255, 255, 255, 255, 255, 255, 255, 255, 255, 255, 255,\n",
       "       255, 255, 255, 255, 255, 255, 255, 255, 255, 255, 255, 255, 255,\n",
       "       255, 255, 255, 255, 255, 255, 255, 255, 255, 255, 255, 255, 255,\n",
       "       255, 255, 255, 255, 255, 255, 255, 255, 255, 255, 255, 255, 255,\n",
       "       255, 255, 255, 255, 255, 255, 255, 255, 255, 255, 255, 255, 255,\n",
       "       255, 123,   0,   0,   0,   0,  29,  95, 131, 141, 125,  80,  40,\n",
       "         0,   0,   0,   0,   0,   8, 109, 204, 220, 245, 255, 255, 255,\n",
       "       255, 255, 255, 255, 255, 255, 255, 255, 255, 255, 255, 255, 255,\n",
       "       255, 255, 255, 255, 255, 255, 255, 255, 255, 255, 255, 255, 255,\n",
       "       255, 255, 255, 255, 255, 255, 255, 255, 255, 255, 255, 255, 255,\n",
       "       255, 255, 255, 255, 255, 255, 255, 255, 255, 255, 255, 255, 255,\n",
       "       255, 255, 255, 255, 255, 255, 255, 255, 255, 255, 255, 255, 255,\n",
       "       255, 255, 255, 255, 255, 255, 255, 255, 255, 255, 255, 255, 255,\n",
       "       255, 255, 255, 255, 255, 255, 255, 255, 255, 255, 255, 255, 255,\n",
       "       255, 255, 255, 255, 255, 255, 255, 255, 255, 255, 255, 255, 255,\n",
       "       255, 255, 255, 255, 255, 255, 255, 255, 255, 255, 255, 255, 255,\n",
       "       255, 255, 255, 255, 255, 255, 255, 255, 255, 255, 255, 255, 255,\n",
       "       255, 255, 255, 255, 255, 255, 255, 255, 255, 255, 255, 255, 255,\n",
       "       255, 255, 255, 255, 255, 255, 255, 255, 255, 255, 255, 255, 255,\n",
       "       255, 255, 255, 255, 255, 255, 255, 255, 255, 255, 255, 255, 255,\n",
       "       255, 255, 255, 255, 255, 255, 255, 255, 255, 255, 255, 255, 255,\n",
       "       255, 255, 255, 255, 255, 255, 255, 255, 255, 255, 255, 255, 255,\n",
       "       255, 255, 255, 255, 255, 255, 255, 255, 255, 255, 255, 255, 255,\n",
       "       255, 255, 255, 255, 255, 255, 255, 255, 255, 255, 255, 255, 255,\n",
       "       255, 255, 255, 255, 255, 255, 255, 255, 255, 255, 255, 255, 255,\n",
       "       255, 255, 255, 255, 255, 255, 255, 255, 255, 255, 255, 255, 255,\n",
       "       255, 255, 255, 255, 255, 255, 255, 255, 255, 255, 255, 255, 255,\n",
       "       255, 255, 255, 255, 255, 255, 255, 255, 255, 255, 255, 255, 255,\n",
       "       255, 255, 255, 255, 255, 255, 255, 255, 255, 255, 255, 255, 255,\n",
       "       255, 255, 255, 255, 255, 255, 255, 255, 255, 255, 255, 255, 255,\n",
       "       255, 255, 255, 255, 255, 255, 255, 255, 255, 255, 255, 255, 255,\n",
       "       255, 255, 255, 255, 255, 255, 255, 255, 255, 255, 255, 255, 255,\n",
       "       255, 255, 255, 255, 255, 255, 255, 255, 255, 255, 255, 255, 255,\n",
       "       255, 255, 255, 255, 255, 255, 255, 255, 255, 255, 255, 255, 255,\n",
       "       255, 255, 255, 255, 255, 255, 255, 255, 255, 255, 255, 255, 255,\n",
       "       255, 255, 255, 255, 255, 255, 255, 255, 255, 255, 255, 255, 255,\n",
       "       255, 255, 255, 255, 255, 255, 255, 255, 255, 255, 255, 255, 255,\n",
       "       255, 255, 255, 255, 255, 255, 255, 255, 255, 255, 255, 255, 255,\n",
       "       255, 255, 255, 255, 255, 255, 255, 255, 255, 255, 255, 255, 255,\n",
       "       255, 255, 255, 255, 255, 255, 255, 255, 255, 255, 255, 255, 255,\n",
       "       255, 255, 255, 255, 255, 255, 255, 255, 255, 255, 255, 255, 255,\n",
       "       255, 255, 255, 255, 255, 255, 255, 255, 255, 255, 255, 255, 255,\n",
       "       255, 255, 255, 255, 255, 255, 255, 255, 255, 255, 255, 255, 255,\n",
       "       255, 255, 255, 255], dtype=uint8)"
      ]
     },
     "execution_count": 24,
     "metadata": {},
     "output_type": "execute_result"
    }
   ],
   "source": [
    "gray[500]"
   ]
  },
  {
   "cell_type": "code",
   "execution_count": 25,
   "id": "deb38865-2406-444e-b716-167abc8093ba",
   "metadata": {},
   "outputs": [],
   "source": [
    "gray500=gray[500]"
   ]
  },
  {
   "cell_type": "code",
   "execution_count": 29,
   "id": "018078c4-00ad-448e-ab76-ac5270ca8a4f",
   "metadata": {},
   "outputs": [
    {
     "data": {
      "text/plain": [
       "2.2774327122153206"
      ]
     },
     "execution_count": 29,
     "metadata": {},
     "output_type": "execute_result"
    }
   ],
   "source": [
    "len(gray500[gray500!=255])/len(gray500)*100"
   ]
  },
  {
   "cell_type": "code",
   "execution_count": 34,
   "id": "553f8974-169e-4ead-b76b-90bb52bc1b5a",
   "metadata": {},
   "outputs": [
    {
     "data": {
      "text/plain": [
       "0.15377279559828694"
      ]
     },
     "execution_count": 34,
     "metadata": {},
     "output_type": "execute_result"
    }
   ],
   "source": [
    "# Calculando el porcentaje de pixeles del manchon\n",
    "len(gray[gray!=255])/np.shape(gray)[0]/np.shape(gray)[1]*100"
   ]
  },
  {
   "cell_type": "code",
   "execution_count": 35,
   "id": "06e481d2-2c96-4c7d-908e-6804d5e93ab0",
   "metadata": {},
   "outputs": [
    {
     "data": {
      "text/plain": [
       "array([219, 165, 135, ..., 121, 178, 249], shape=(1735,), dtype=uint8)"
      ]
     },
     "execution_count": 35,
     "metadata": {},
     "output_type": "execute_result"
    }
   ],
   "source": [
    "gray[gray!=255]"
   ]
  },
  {
   "cell_type": "code",
   "execution_count": 36,
   "id": "92daa853-6039-4e28-ad74-2c5be4b78fc3",
   "metadata": {},
   "outputs": [
    {
     "data": {
      "text/plain": [
       "0.15377279559828697"
      ]
     },
     "execution_count": 36,
     "metadata": {},
     "output_type": "execute_result"
    }
   ],
   "source": [
    "1735/(1168*966)*100"
   ]
  },
  {
   "cell_type": "code",
   "execution_count": 30,
   "id": "bd86772f-a7f1-432d-818c-018fe4fbec0e",
   "metadata": {},
   "outputs": [
    {
     "name": "stdout",
     "output_type": "stream",
     "text": [
      "El máximo es 255\n",
      "El mínimo es 0\n",
      "El promedio es 254.64523862701722\n",
      "La desviación estándar es 9.333335909974636\n"
     ]
    }
   ],
   "source": [
    "print(\"El máximo es\",np.max(gray))\n",
    "print(\"El mínimo es\",np.min(gray))\n",
    "print(\"El promedio es\",np.mean(gray))\n",
    "print(\"La desviación estándar es\",np.std(gray))"
   ]
  },
  {
   "cell_type": "code",
   "execution_count": 65,
   "id": "c9eb7ae5-f3f6-4be8-b7ba-63a2e5c19247",
   "metadata": {},
   "outputs": [
    {
     "data": {
      "image/png": "[encoded data removed]",
      "text/plain": [
       "<Figure size 640x480 with 1 Axes>"
      ]
     },
     "metadata": {},
     "output_type": "display_data"
    }
   ],
   "source": [
    "#Calculando el histograma de la mancha...\n",
    "plt.hist(gray[gray!=255], bins=10)\n",
    "plt.show()"
   ]
  },
  {
   "cell_type": "code",
   "execution_count": 38,
   "id": "66e9b39a-ee41-4721-8482-c6e5208fa43e",
   "metadata": {},
   "outputs": [],
   "source": [
    "# Slight blur to reduce noise\n",
    "gray_blur = cv2.GaussianBlur(gray, (5, 5), 0)"
   ]
  },
  {
   "cell_type": "code",
   "execution_count": 46,
   "id": "496a1fa9-ae0d-4dc2-81da-63e252cb4630",
   "metadata": {},
   "outputs": [
    {
     "data": {
      "text/plain": [
       "(array([[ 0.,  0.,  0., ...,  0.,  0., 60.],\n",
       "        [ 0.,  0.,  0., ...,  0.,  0., 60.],\n",
       "        [ 0.,  0.,  0., ...,  0.,  0., 60.],\n",
       "        ...,\n",
       "        [ 0.,  0.,  0., ...,  0.,  0., 60.],\n",
       "        [ 0.,  0.,  0., ...,  0.,  0., 60.],\n",
       "        [ 0.,  0.,  0., ...,  0.,  0., 60.]], shape=(70, 50)),\n",
       " array([  0. ,   5.1,  10.2,  15.3,  20.4,  25.5,  30.6,  35.7,  40.8,\n",
       "         45.9,  51. ,  56.1,  61.2,  66.3,  71.4,  76.5,  81.6,  86.7,\n",
       "         91.8,  96.9, 102. , 107.1, 112.2, 117.3, 122.4, 127.5, 132.6,\n",
       "        137.7, 142.8, 147.9, 153. , 158.1, 163.2, 168.3, 173.4, 178.5,\n",
       "        183.6, 188.7, 193.8, 198.9, 204. , 209.1, 214.2, 219.3, 224.4,\n",
       "        229.5, 234.6, 239.7, 244.8, 249.9, 255. ]),\n",
       " <a list of 70 BarContainer objects>)"
      ]
     },
     "execution_count": 46,
     "metadata": {},
     "output_type": "execute_result"
    },
    {
     "data": {
      "image/png": "[encoded data removed]",
      "text/plain": [
       "<Figure size 1500x500 with 2 Axes>"
      ]
     },
     "metadata": {},
     "output_type": "display_data"
    }
   ],
   "source": [
    "plt.figure(figsize=(15,5))\n",
    "plt.subplot(121)\n",
    "plt.title(\"Blur image\")\n",
    "plt.hist(gray_blur[450:510,450:520],bins=50)\n",
    "plt.subplot(122)\n",
    "plt.title(\"Original i\n",
    "mage\")\n",
    "plt.hist(gray[450:510,450:520],bins=50)"
   ]
  },
  {
   "cell_type": "code",
   "execution_count": null,
   "id": "fb9cd9be-4cf1-4f4a-b543-714989d40e3e",
   "metadata": {},
   "outputs": [],
   "source": []
  },
  {
   "cell_type": "code",
   "execution_count": null,
   "id": "fe1e5ae5-f5b8-4df7-972b-75bc03be87d2",
   "metadata": {},
   "outputs": [],
   "source": []
  },
  {
   "cell_type": "code",
   "execution_count": 47,
   "id": "d2e8c211-e69a-4c25-8e53-8d02d74f64d1",
   "metadata": {},
   "outputs": [
    {
     "data": {
      "text/plain": [
       "<matplotlib.image.AxesImage at 0x163a21d10>"
      ]
     },
     "execution_count": 47,
     "metadata": {},
     "output_type": "execute_result"
    },
    {
     "data": {
      "image/png": "[encoded data removed]",
      "text/plain": [
       "<Figure size 1500x500 with 2 Axes>"
      ]
     },
     "metadata": {},
     "output_type": "display_data"
    }
   ],
   "source": [
    "plt.figure(figsize=(15,5))\n",
    "plt.subplot(121)\n",
    "plt.title(\"Blur image\")\n",
    "plt.imshow(gray_blur[450:510,450:520],cmap=\"gray\")\n",
    "plt.subplot(122)\n",
    "plt.title(\"Original image\")\n",
    "plt.imshow(gray[450:510,450:520],cmap=\"gray\")"
   ]
  },
  {
   "cell_type": "code",
   "execution_count": 48,
   "id": "5df24bf2-76fd-4953-ac95-98253e17bcad",
   "metadata": {},
   "outputs": [],
   "source": [
    "# Otsu threshold: because the dot is dark on a bright background\n",
    "# THRESH_BINARY_INV turns the dark dot to white on black background\n",
    "_, mask = cv2.threshold(gray_blur, 0, 255, cv2.THRESH_BINARY_INV + cv2.THRESH_OTSU)"
   ]
  },
  {
   "cell_type": "code",
   "execution_count": 49,
   "id": "259c9651-3212-4f25-aced-c8f1be4e3f75",
   "metadata": {},
   "outputs": [],
   "source": [
    "# Remove tiny noise (opening)\n",
    "kernel = cv2.getStructuringElement(cv2.MORPH_ELLIPSE, (5, 5))\n",
    "mask_clean = cv2.morphologyEx(mask, cv2.MORPH_OPEN, kernel, iterations=1)\n"
   ]
  },
  {
   "cell_type": "code",
   "execution_count": 50,
   "id": "4abe2387-94d7-4e7d-9223-54b0a91ff86b",
   "metadata": {},
   "outputs": [],
   "source": [
    "# Find contours\n",
    "cnts, _ = cv2.findContours(mask_clean, cv2.RETR_EXTERNAL, cv2.CHAIN_APPROX_SIMPLE)\n",
    "\n",
    "if not cnts:\n",
    "    raise RuntimeError(\"No contours found. Try adjusting preprocessing.\")"
   ]
  },
  {
   "cell_type": "code",
   "execution_count": 51,
   "id": "78cd8537-d56a-42ab-b772-9f6f23456455",
   "metadata": {},
   "outputs": [],
   "source": [
    "# Choose the largest contour (by area) to represent the dot\n",
    "areas = [cv2.contourArea(c) for c in cnts]\n",
    "largest_idx = int(np.argmax(areas))\n",
    "dot_contour = cnts[largest_idx]"
   ]
  },
  {
   "cell_type": "code",
   "execution_count": 52,
   "id": "819cb74d-8007-48b4-872d-50747512d702",
   "metadata": {},
   "outputs": [],
   "source": [
    "# Compute centroid with spatial moments\n",
    "M = cv2.moments(dot_contour)\n",
    "if M[\"m00\"] == 0:\n",
    "    # Fallback: mean of contour points\n",
    "    cx = float(np.mean(dot_contour[:, 0, 0]))\n",
    "    cy = float(np.mean(dot_contour[:, 0, 1]))\n",
    "else:\n",
    "    cx = float(M[\"m10\"] / M[\"m00\"])\n",
    "    cy = float(M[\"m01\"] / M[\"m00\"])"
   ]
  },
  {
   "cell_type": "code",
   "execution_count": 53,
   "id": "d2ac7afa-f2d4-458f-bc9a-9dfc68e07fb4",
   "metadata": {},
   "outputs": [
    {
     "data": {
      "text/plain": [
       "array([[[255, 255, 255],\n",
       "        [255, 255, 255],\n",
       "        [255, 255, 255],\n",
       "        ...,\n",
       "        [255, 255, 255],\n",
       "        [255, 255, 255],\n",
       "        [255, 255, 255]],\n",
       "\n",
       "       [[255, 255, 255],\n",
       "        [255, 255, 255],\n",
       "        [255, 255, 255],\n",
       "        ...,\n",
       "        [255, 255, 255],\n",
       "        [255, 255, 255],\n",
       "        [255, 255, 255]],\n",
       "\n",
       "       [[255, 255, 255],\n",
       "        [255, 255, 255],\n",
       "        [255, 255, 255],\n",
       "        ...,\n",
       "        [255, 255, 255],\n",
       "        [255, 255, 255],\n",
       "        [255, 255, 255]],\n",
       "\n",
       "       ...,\n",
       "\n",
       "       [[255, 255, 255],\n",
       "        [255, 255, 255],\n",
       "        [255, 255, 255],\n",
       "        ...,\n",
       "        [255, 255, 255],\n",
       "        [255, 255, 255],\n",
       "        [255, 255, 255]],\n",
       "\n",
       "       [[255, 255, 255],\n",
       "        [255, 255, 255],\n",
       "        [255, 255, 255],\n",
       "        ...,\n",
       "        [255, 255, 255],\n",
       "        [255, 255, 255],\n",
       "        [255, 255, 255]],\n",
       "\n",
       "       [[255, 255, 255],\n",
       "        [255, 255, 255],\n",
       "        [255, 255, 255],\n",
       "        ...,\n",
       "        [255, 255, 255],\n",
       "        [255, 255, 255],\n",
       "        [255, 255, 255]]], shape=(1168, 966, 3), dtype=uint8)"
      ]
     },
     "execution_count": 53,
     "metadata": {},
     "output_type": "execute_result"
    }
   ],
   "source": [
    "# Make a copy for visualization (convert to RGB for matplotlib)\n",
    "img_vis = cv2.cvtColor(img.copy(), cv2.COLOR_BGR2RGB)\n",
    "# Draw the contour and centroid\n",
    "cv2.drawContours(img_vis, [dot_contour], -1, (0, 255, 0), 2)\n",
    "cv2.circle(img_vis, (int(round(cx)), int(round(cy))), 10, (255, 0, 0), -1)"
   ]
  },
  {
   "cell_type": "code",
   "execution_count": 54,
   "id": "edfd9262-9316-4af6-8c31-5acafee917f6",
   "metadata": {},
   "outputs": [
    {
     "name": "stdout",
     "output_type": "stream",
     "text": [
      "Image size: 966 x 1168 (w x h, pixels)\n",
      "Detected centroid (x, y) in pixel coordinates (origin at top-left): (484.41, 480.24)\n"
     ]
    }
   ],
   "source": [
    "print(f\"Image size: {orig_w} x {orig_h} (w x h, pixels)\")\n",
    "print(f\"Detected centroid (x, y) in pixel coordinates (origin at top-left): ({cx:.2f}, {cy:.2f})\")"
   ]
  },
  {
   "cell_type": "code",
   "execution_count": 55,
   "id": "30564935-f19b-41d2-93e1-2c187d7de167",
   "metadata": {},
   "outputs": [
    {
     "data": {
      "image/png": "[encoded data removed]",
      "text/plain": [
       "<Figure size 600x800 with 1 Axes>"
      ]
     },
     "metadata": {},
     "output_type": "display_data"
    }
   ],
   "source": [
    "plt.figure(figsize=(6, 8))\n",
    "plt.imshow(img_vis)\n",
    "plt.title(f\"Centroid: ({cx:.2f}, {cy:.2f})\")\n",
    "plt.axis('off')\n",
    "plt.show()"
   ]
  },
  {
   "cell_type": "code",
   "execution_count": 56,
   "id": "724be445-4ed1-49e5-b025-ddd89a863207",
   "metadata": {},
   "outputs": [
    {
     "data": {
      "text/plain": [
       "484.4065387348969"
      ]
     },
     "execution_count": 56,
     "metadata": {},
     "output_type": "execute_result"
    }
   ],
   "source": [
    "cx"
   ]
  },
  {
   "cell_type": "code",
   "execution_count": 58,
   "id": "f32faf1f-66f0-4e23-b2fd-ba41e366ac1f",
   "metadata": {},
   "outputs": [
    {
     "data": {
      "text/plain": [
       "<matplotlib.image.AxesImage at 0x163ee56d0>"
      ]
     },
     "execution_count": 58,
     "metadata": {},
     "output_type": "execute_result"
    },
    {
     "data": {
      "image/png": "[encoded data removed]",
      "text/plain": [
       "<Figure size 2000x500 with 3 Axes>"
      ]
     },
     "metadata": {},
     "output_type": "display_data"
    }
   ],
   "source": [
    "plt.figure(figsize=(20,5))\n",
    "plt.subplot(131)\n",
    "plt.title(\"Contour image\")\n",
    "plt.imshow(img_vis[450:510,450:520],cmap=\"gray\")\n",
    "plt.subplot(132)\n",
    "plt.title(\"Blur image\")\n",
    "plt.imshow(gray_blur[450:510,450:520],cmap=\"gray\")\n",
    "plt.subplot(133)\n",
    "plt.title(\"Original image\")\n",
    "plt.imshow(gray[450:510,450:520],cmap=\"gray\")"
   ]
  },
  {
   "cell_type": "code",
   "execution_count": null,
   "id": "600d7355-4a78-481c-8018-120569a7a571",
   "metadata": {},
   "outputs": [],
   "source": [
    "\n",
    "\n",
    "\n",
    "\n",
    "\n",
    "\n",
    "\n",
    "\n",
    "\n",
    "\n"
   ]
  },
  {
   "cell_type": "code",
   "execution_count": null,
   "id": "2c0dfc53-9ee3-4370-9b59-25ac22d475bc",
   "metadata": {},
   "outputs": [],
   "source": [
    "\n"
   ]
  }
 ],
 "metadata": {
  "kernelspec": {
   "display_name": "Python 3 (ipykernel)",
   "language": "python",
   "name": "python3"
  },
  "language_info": {
   "codemirror_mode": {
    "name": "ipython",
    "version": 3
   },
   "file_extension": ".py",
   "mimetype": "text/x-python",
   "name": "python",
   "nbconvert_exporter": "python",
   "pygments_lexer": "ipython3",
   "version": "3.13.3"
  }
 },
 "nbformat": 4,
 "nbformat_minor": 5
}
